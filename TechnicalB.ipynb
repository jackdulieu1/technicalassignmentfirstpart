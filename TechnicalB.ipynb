{
 "cells": [
  {
   "cell_type": "markdown",
   "metadata": {},
   "source": [
    "# Technical Assignment Part B"
   ]
  },
  {
   "cell_type": "markdown",
   "metadata": {},
   "source": [
    "## 1.1 Extracting information from our own transaction"
   ]
  },
  {
   "cell_type": "code",
   "execution_count": 10,
   "metadata": {},
   "outputs": [],
   "source": [
    "import json\n",
    "import requests"
   ]
  },
  {
   "cell_type": "code",
   "execution_count": 11,
   "metadata": {},
   "outputs": [],
   "source": [
    "answer = requests.get(\"https://api.whatsonchain.com/v1/bsv/main/block/height/684582\")"
   ]
  },
  {
   "cell_type": "code",
   "execution_count": 13,
   "metadata": {},
   "outputs": [
    {
     "data": {
      "text/plain": [
       "{'hash': '00000000000000000582bbb2d19b8fe6a0a24af1de3be32491247f7f879ee3aa',\n",
       " 'confirmations': 293,\n",
       " 'size': 2209292,\n",
       " 'height': 684582,\n",
       " 'version': 671080448,\n",
       " 'versionHex': '27ffe000',\n",
       " 'merkleroot': '2a648ffdb11dc7917561af047e4bab0fdb9fe80c900335ed0f3a9833b632a3ec',\n",
       " 'txcount': 3173,\n",
       " 'tx': ['16b39f4ffabf4054322702f55546fbdd3ff478c67e0b9492d260f46eec781fe0',\n",
       "  '3c4266852aeb5f9caec4089fdf8dc2651fc1e78167e404c7d41fe73cb4a8141d',\n",
       "  'b296b939e6b8802e430d3baa4016f7159070436ae2eced597f70395535f468bd',\n",
       "  '43bc759ce360aa97dbcda76f98f0120027cd0761fcf25320ee49955f9ba6e4b2',\n",
       "  '55e84bf9e116e0bdf9c868407fe8b6658fba887a8fd30ff36120999369d2acd2',\n",
       "  '4fbd3a83492098708bf2cd2dfef8fcb1988189458bd9daa8855f12bbe879db9e',\n",
       "  'f6a7921d6dfff7721b4d4dafadb14b9888ad3935552943fff4df6c7dba1c8f1f',\n",
       "  '55c77ad4fe38b5b5c38f0c27500c9c5e491041488a54895ab3026ad5dce3791e',\n",
       "  '24a61381f109d5abcda515c2dae6405321783d5ee43990c90a87252769ad3f75',\n",
       "  '37265872e0811a489cc48cf0288da15b76b676cf51144653b84ad2043ecdf5d9',\n",
       "  'a3fa0e9f61cf1df079267c05bed602cea29083487618c7f3edf1cf7fa163d57c',\n",
       "  'ee1567170a6630d710d7ad26c2d2aa61d8d2aad5c49869692bbd64fc7af33fe1',\n",
       "  '1b3cb731107219c6d5f9212d159a42bbdd56d66fd36e9e0bf8900b2e468f522b',\n",
       "  'f57bf7ca15d51e1576ca70aa16bee9e17d5608329c264ae097125d4b526f6f32',\n",
       "  'fdab544606792cf869ebfa9d215ccbc6a643bf7bacd4197904d6e5a7f345e069',\n",
       "  '87f057054eb4285b5ea461ec0a5b1c5da32e52619067242703f0f2b413a7b28c',\n",
       "  'efe69f1b5a8ec45175a042564f7ba767d9e3b93234dd3102a5fe3e60d9bfdcde',\n",
       "  'e561a3c21a396c5fc96f9f4320c79e5a11555306be8753fce87322fff1bc4dc1',\n",
       "  'ea742e7cb9f538bc1d8e58e8e7f07caa6606534ae73a9aa5aff703c21f5aabd5',\n",
       "  'b3d6d991523cd0c99817dd9957f62f6f469012c0c47bb9890d924714e958b2cf',\n",
       "  '89cea04b1ed7a16089355161ac4fb3bde5412b49ec3b5b376b41a274ad734565',\n",
       "  'b79917dbc6da63c3a2041092d9793e4f3034997efde6e0ac921d612a33b27cb2',\n",
       "  'c8ce8b9d96dbe59eac0a78c9109ca0983b28391081934e6baafcc94fa52b1e59',\n",
       "  '7d28d0dbffa8617d39d11f30137a2c56ca8b5463c7af6cc3b16e29e9aff41438',\n",
       "  '8734595939f0c2dbd1baf79848ae58e421e0083d06005f91a35a581ba9936572',\n",
       "  'd27a1609383e8a4c0612b40b06a5834c943a0c39fd107509c95e0281c0ba2dfe',\n",
       "  '70a3c35c6c71f58d29317894108b02fd8afbf675c520d55c219d64ea1d9c0b70',\n",
       "  'f660328c2f82b92a52bcf3176463f591ff7d0769f9044a184ef98c01fb4de10a',\n",
       "  '4a2de195cf26eca8e51ad6e5c62e8e166f2338cb5e0d99a6296bb13960b1560a',\n",
       "  '9a8e930111bfed52e1d38306b821cc685444eb66fbf8b4aad5812c61072b23d9',\n",
       "  'd4a7751172781b52754528f5e7401f1221e6a12f94e614476c62a59fcd31ed65',\n",
       "  'f4deca8a7b631005e1650aff3c488a2bb7f44d28fe112b1d4376951ab8d91d97',\n",
       "  '6d2be753a72a31f8115256d206fa3d688e9c8e8894312c8a7d2c334476b2a800',\n",
       "  '14de1fea0a9f445bf151045c68b766146eb07e80dca7c4d5e565ac9110984f5c',\n",
       "  '16c11f2da210fab6be4640abf6ce9053ade551fc18936dd9a2de124b0707daa9',\n",
       "  'e09bed467b45cff007789dbb8964d4e6e0517059032bb38c2d64aa35166f8990',\n",
       "  '64ce3ebd9d4cbeb63e3aea941d478aeb781ea034d1d731633c677299616cd8d7',\n",
       "  '6362ce292809f1247d109837f9b9e573267fb8dc38df0e0e8eae78edea46dd4f',\n",
       "  '3ce4e04d72dad6e498b26c7b76d6dbe10ec4d617645b7fea0c32f0d7686ce056',\n",
       "  '56f45428877939d45b4f81e43a638920a9953bee0d484557a0bd057e531d33dc',\n",
       "  'd8d39320492e53e057a066e88cbd816225e189ef1098d1da39045051a26b4182',\n",
       "  'c94f582cc4c362d7876e45510b594c0d23fbf592d723c43cfde07504fa7f3183',\n",
       "  '0fc613aa8a3820e188ef5601602e7859e6428929ae0125af0c0dd1130e5edfc6',\n",
       "  '829c12490e4ffd560566aee200fe2a2b75fe4dc469b1377ab2d2c3a39c9bc1fb',\n",
       "  '2cbd38ad1627a59b30de5150b84d22a179e182efa7400df80156f8730e0ab3ee',\n",
       "  'e39cd53c8d20afe0bbee76a298732c1cbf3771ead8ba8f4ab54b162f478d0e14',\n",
       "  '070d033a9f4df1836b0f2ac5447cb5ce2352bfb042e1d57d98fdf3e03088d5e2',\n",
       "  '71e77dd458edcf3233043b4e57f76ec318a9c1d076f45fe42dd1147a20dca48a',\n",
       "  '46550ba3ed01b0909fe04178efcfa9bcc1f73d210c7f7d22c9659bffe5d849df',\n",
       "  '1afd3dbe12c6b8502d63c713b7d5f239ca61b132e15c0773838ba30b7eb63245',\n",
       "  '148014c26cb490fa049daa0c0b1a6a92546527bf829008a6ba8e8b2996f80240',\n",
       "  '105543ba1d3aadc674ddae25e36a17c1c85a2466aff71c53b6e3a155e11f6ebe',\n",
       "  '283a4c26c6dda53cd35e3647e53fa85a367295ccfe727c0c9702c14e89b28746',\n",
       "  '2573ff582c91f235b1ace565d36b430e55ee8d9eea7ffd533950d37da5700aa1',\n",
       "  'f1c99c69584ace9bf64986b5fb4a7bf9c2d8210b51add83f7dc84683a614e767',\n",
       "  'd9b4012d5f8d320fb3058cda74033dae10c07d813f4a1d91ff71ee72411c4004',\n",
       "  'a146546ef9b52c82e970af71cb299eb40b983010aa95f29919c273fb7db5143b',\n",
       "  '0c3d172615306822110bd472ad6742e2642c1ccfb3dc77f51e2f4c71f95bf2b3',\n",
       "  '7d926652e70351597bd99df46de364183988713d9dff7bb5bca8abf4eecbbaee',\n",
       "  '27b6d29d4e7c943285c7d30b70b510b3a1e891ffa30ee4989065555f8f71067a',\n",
       "  'd60312783370b470f8cbd33dc5d30c47c741ff349e0ddec5acca9c7cb358f268',\n",
       "  '99888c0e28328d1e1a765fab95afc388f741f3b0eeade7c7c75ad28f421afd16',\n",
       "  'ae2525f355d8aafd0a8d99d322880c17b7637c36ab14e4403ed2b013c380e74c',\n",
       "  '7a50b0850ad12134c6eed1c04fae83837e2784f5a6f758cae53cb15234c8aaaa',\n",
       "  '115b75a9c16ff65aeb33bbd9f8285fde373f43a670e9508fb165aee4d8fa29b7',\n",
       "  '00f09f0733d40458f2ae7fc8e3b1393b2cb3eac041606bcbf90487825fd65a89',\n",
       "  'b67a32495947dc13d04c4ddc7c55f6dd83a1d17d3fe941affe636fce425fad60',\n",
       "  '2d44b81586e689671744338fcc4228ae5981e015a59b395d8f4994f18b72ade7',\n",
       "  'e2e486a745e6dda9dc2663d9f8757cc74904ce22acff0d10a35449667cf3c381',\n",
       "  '09480f6e1a3768fef2d7660e64374c842c7a45aa07f0dff002758edb5f0d10b4',\n",
       "  '4fb7d3e771a2c52f58824755f754976c0711e48215e1a3c5b373e99185963070',\n",
       "  '057a5da9104aa079e9a5bfbbd366dbb62d6cccf48f98b28466920c58294af59a',\n",
       "  '8a5beb736bbe1914a871ab0a7aac9eb9ca03ee710c745c4dc7d6803d060929d2',\n",
       "  '78731e5013d76a33f70d92938cc470d5a7c11128300f128b1e5d1ed95fc41348',\n",
       "  '9710b9f1059aaa86ee562f1849b2138051c42d1b5f103ed8e66a371c6b66bfb5',\n",
       "  'f32e7425a5f422fd4004e62e36ba10c797eb585624cf1b35e79dacca5ae8bdb4',\n",
       "  '4215c48853c144646056550c031d7db07cd4c11c81fec7c6e016246c120e7024',\n",
       "  '047b50fb3bb890b02a968f855d10df693e6277e6bddd97a6b8c4aa685813015a',\n",
       "  '97a760f5cabecece0293b57863a1979940eec12c26abc123a34b3b3543161cf3',\n",
       "  '80496f28a971925bc30f9710cfe6a91ca7f8bffeb2466d262e07236bebcd4d49',\n",
       "  '32088218e6117ac16abf1da8218a74f320ecca7fc6b30e1b5c464e5da878db96',\n",
       "  '50d912ea8f6d901be0f7fa032c4425613eee0e6d0259f272e64bd50980103e14',\n",
       "  'df336f44110a615e65e4be97781072d8e1cebb22a993c8de223c04a2335a87e7',\n",
       "  '32514b3b214dca83207de261c44b9b8019552e23f740a699225504d0e30848d5',\n",
       "  'caf6cc5b9ae2cc36c06bc3cd16298d299492cd991d6c6d72124945fe93133940',\n",
       "  '4adbe172e6e5a1cfced33dccac31616d1486ff11c01c1f776251cebc9e4d3d16',\n",
       "  '3ce792b85867ea7a1259b83baf08d3333663283f87ee3a248c6a4dbd35ba4916',\n",
       "  '28e0322b8bbdb51aa332a56d9504158212dcaf3b5cb6b6fb5343def9ff97c28a',\n",
       "  '64cd061d32807f02aeb3d25050a5db14e968635a24c59a65156952e4d11dd1da',\n",
       "  'b49ced181751599967229d0cb441678e995e42a0ee67ce780adb9d4e0f18568a',\n",
       "  '790105665be1d9a82554468ca6e6ebab1070f04fbd4c7794585eb506df9fbbff',\n",
       "  'd80588087014a849f672339cd19ce20897dce071b701477d48f1dd24c0a5edb1',\n",
       "  'f6314d75b72ccf390b52a018d7bd91271793617c270f8c99aaa4aa7b17417190',\n",
       "  '7cb5cddbdff63eb45ef537ad20a8f3ae3ea62c65c23a369b903b938216cce5f9',\n",
       "  '112f5b7e2ef9f2b68a146a7e87cab7f7cb45a09d9492855758728f3485fddaf9',\n",
       "  'b71b5df2cf388ea45b779646899bd523c1433d1c8e526b7c216e092ca3c57a5a',\n",
       "  '3d9f4b4e3002491ef8a78afd025d9af4f5e528832f418887fab42e2ad7b764e3',\n",
       "  'd855df5ceadb8e3dee3b324b47acabedf85494ef2359405dfb2f80b426c41eff',\n",
       "  '5d0b2b4876360c7079f6acad48b93c852abf3032ae5d4c57f3f7865f8e38cd20',\n",
       "  'fa009fbfcce9f45f058fe51d5e2eaf14be78344a91205893b6685055b39bc7c8'],\n",
       " 'time': 1619438461,\n",
       " 'mediantime': 1619436624,\n",
       " 'nonce': 191229017,\n",
       " 'bits': '180b35c1',\n",
       " 'difficulty': 98081818489.8533,\n",
       " 'chainwork': '0000000000000000000000000000000000000000012a4f331c19ba0eda2dde7f',\n",
       " 'previousblockhash': '000000000000000004ae3b900399c2ccc1ec1b3d7d5b19ac474f4f3bda620ed1',\n",
       " 'nextblockhash': '000000000000000003b8f154702215b6fb6efac786fea69ad0426ca453ce30c7',\n",
       " 'coinbaseTx': {'hex': '',\n",
       "  'txid': '16b39f4ffabf4054322702f55546fbdd3ff478c67e0b9492d260f46eec781fe0',\n",
       "  'hash': '16b39f4ffabf4054322702f55546fbdd3ff478c67e0b9492d260f46eec781fe0',\n",
       "  'version': 1,\n",
       "  'size': 837,\n",
       "  'locktime': 0,\n",
       "  'vin': [{'coinbase': '0326720a2f7461616c2e636f6d2f506c656173652070617920302e3520736174732f627974652c20696e666f407461616c2e636f6d8bce65adc8ed0f3a2c130e00',\n",
       "    'txid': '',\n",
       "    'vout': 0,\n",
       "    'scriptSig': {'asm': '', 'hex': ''},\n",
       "    'sequence': 4294967295}],\n",
       "  'vout': [{'value': 6.26139716,\n",
       "    'n': 0,\n",
       "    'scriptPubKey': {'asm': 'OP_DUP OP_HASH160 8e9170be3f733a9773c907517fb9b786f1c884c6 OP_EQUALVERIFY OP_CHECKSIG',\n",
       "     'hex': '76a9148e9170be3f733a9773c907517fb9b786f1c884c688ac',\n",
       "     'reqSigs': 1,\n",
       "     'type': 'pubkeyhash',\n",
       "     'addresses': ['1DzqBck9oyCBzxJbbje2s15deZis6BeATi'],\n",
       "     'opReturn': None,\n",
       "     'isTruncated': False}},\n",
       "   {'value': 0,\n",
       "    'n': 1,\n",
       "    'scriptPubKey': {'asm': '0 OP_RETURN -149757612 7b2276657273696f6e223a22302e31222c22686569676874223a3638343538322c22707265764d696e65724964223a22303365393264336535633366376264393435646662663438653761393933393362316266623366313166333830616533306432383665376666326165633561323730222c22707265764d696e65724964536967223a2233303435303232313030643736333630653464323133333163613836663031386330343665353763393338663139373735303734373333333533363062653337303438636165316166333032323030626536363034353430323162663934363465393966356139353831613938633963663439353430373539386335396234373334623266646234383262663937222c226d696e65724964223a22303365393264336535633366376264393435646662663438653761393933393362316266623366313166333830616533306432383665376666326165633561323730222c2276637478223a7b2274784964223a2235373962343335393235613930656533396133376265336230306239303631653734633330633832343133663664306132303938653162656137613235313566222c22766f7574223a307d2c226d696e6572436f6e74616374223a7b22656d61696c223a22696e666f407461616c2e636f6d222c226e616d65223a225441414c20446973747269627574656420496e666f726d6174696f6e20546563686e6f6c6f67696573222c226d65726368616e74415049456e64506f696e74223a2268747470733a2f2f6d65726368616e746170692e7461616c2e636f6d2f227d7d 3044022005ba4cf979a0fd3cbf3bc1b55d27ff03a7cfd6ef9415edbee0f3edb006e422aa022018565245370640dedf647abb0a4458fe62295f65990a884558fc3cf116f0f0e9',\n",
       "     'hex': '006a04ac1eed884d53027b2276657273696f6e223a22302e31222c22686569676874223a3638343538322c22707265764d696e65724964223a22303365393264336535633366376264393435646662663438653761393933393362316266623366313166333830616533306432383665376666326165633561323730222c22707265764d696e65724964536967223a2233303435303232313030643736333630653464323133333163613836663031386330343665353763393338663139373735303734373333333533363062653337303438636165316166333032323030626536363034353430323162663934363465393966356139353831613938633963663439353430373539386335396234373334623266646234383262663937222c226d696e65724964223a22303365393264336535633366376264393435646662663438653761393933393362316266623366313166333830616533306432383665376666326165633561323730222c2276637478223a7b2274784964223a2235373962343335393235613930656533396133376265336230306239303631653734633330633832343133663664306132303938653162656137613235313566222c22766f7574223a307d2c226d696e6572436f6e74616374223a7b22656d61696c223a22696e666f407461616c2e636f6d222c226e616d65223a225441414c20446973747269627574656420496e666f726d6174696f6e20546563686e6f6c6f67696573222c226d65726368616e74415049456e64506f696e74223a2268747470733a2f2f6d65726368616e746170692e7461616c2e636f6d2f227d7d463044022005ba4cf979a0fd3cbf3bc1b55d27ff03a7cfd6ef9415edbee0f3edb006e422aa022018565245370640dedf647abb0a4458fe62295f65990a884558fc3cf116f0f0e9',\n",
       "     'type': 'nulldata',\n",
       "     'opReturn': None,\n",
       "     'isTruncated': False}}],\n",
       "  'blockhash': '00000000000000000582bbb2d19b8fe6a0a24af1de3be32491247f7f879ee3aa',\n",
       "  'confirmations': 293,\n",
       "  'time': 1619438461,\n",
       "  'blocktime': 1619438461,\n",
       "  'blockheight': 684582},\n",
       " 'totalFees': 0.011397159999999573,\n",
       " 'miner': 'taal.com',\n",
       " 'pages': {'uri': ['/block/hash/00000000000000000582bbb2d19b8fe6a0a24af1de3be32491247f7f879ee3aa/page/1'],\n",
       "  'size': 50000}}"
      ]
     },
     "execution_count": 13,
     "metadata": {},
     "output_type": "execute_result"
    }
   ],
   "source": [
    "transaction_block = json.loads(answer.text)\n",
    "transaction_block"
   ]
  },
  {
   "cell_type": "code",
   "execution_count": 14,
   "metadata": {},
   "outputs": [
    {
     "name": "stdout",
     "output_type": "stream",
     "text": [
      "3173\n"
     ]
    }
   ],
   "source": [
    "print(transaction_block['txcount'])"
   ]
  },
  {
   "cell_type": "markdown",
   "metadata": {},
   "source": [
    "This is the number of BitcoinSV transactions that are included within this block."
   ]
  },
  {
   "cell_type": "code",
   "execution_count": 15,
   "metadata": {},
   "outputs": [
    {
     "name": "stdout",
     "output_type": "stream",
     "text": [
      "2021-04-26 13:01:01\n"
     ]
    }
   ],
   "source": [
    "import datetime\n",
    "timestamp = datetime.datetime.fromtimestamp(transaction_block['time'])\n",
    "print(timestamp.strftime('%Y-%m-%d %H:%M:%S'))"
   ]
  },
  {
   "cell_type": "markdown",
   "metadata": {},
   "source": [
    "Time stamp of the exact time that this block was mined and added to the BSV blockchain"
   ]
  },
  {
   "cell_type": "code",
   "execution_count": 16,
   "metadata": {},
   "outputs": [
    {
     "name": "stdout",
     "output_type": "stream",
     "text": [
      "0.011397159999999573\n"
     ]
    }
   ],
   "source": [
    "print(transaction_block['totalFees'])"
   ]
  },
  {
   "cell_type": "markdown",
   "metadata": {},
   "source": [
    "The total amount (in BSV) of fees that the miner earns from all the transactions within this block, for calculating the correct hash for this block and adding it to the blockchain."
   ]
  },
  {
   "cell_type": "code",
   "execution_count": 17,
   "metadata": {},
   "outputs": [
    {
     "name": "stdout",
     "output_type": "stream",
     "text": [
      "293\n"
     ]
    }
   ],
   "source": [
    "print(transaction_block['confirmations'])"
   ]
  },
  {
   "cell_type": "markdown",
   "metadata": {},
   "source": [
    "This means that there have been 4 additional blocks added to the BitcoinSV blockchain since our block was added. Each additional block that gets added further validates the blockchain history and therefore adds a confirmation. It is generally accepted that once a block has 3 confirmations, then the transactions within that block are final."
   ]
  },
  {
   "cell_type": "code",
   "execution_count": 18,
   "metadata": {},
   "outputs": [
    {
     "name": "stdout",
     "output_type": "stream",
     "text": [
      "taal.com\n"
     ]
    }
   ],
   "source": [
    "print(transaction_block['miner'])"
   ]
  },
  {
   "cell_type": "markdown",
   "metadata": {},
   "source": [
    "The miner is the party or organisation that added this block to the blockchain, confirming the transactions within it. The miner solves the proof of work computational puzzle, by calculating the correct hash for this block, in order to add it to the blockchain."
   ]
  },
  {
   "cell_type": "markdown",
   "metadata": {},
   "source": [
    "## 1.2 Extracting information from Famous Blocks"
   ]
  },
  {
   "cell_type": "markdown",
   "metadata": {},
   "source": [
    "### Satoshi to Hal Finney Transaction"
   ]
  },
  {
   "cell_type": "code",
   "execution_count": 19,
   "metadata": {},
   "outputs": [],
   "source": [
    "answer2 = requests.get(\"https://api.whatsonchain.com/v1/bsv/main/block/height/170\")"
   ]
  },
  {
   "cell_type": "code",
   "execution_count": 20,
   "metadata": {},
   "outputs": [
    {
     "data": {
      "text/plain": [
       "{'hash': '00000000d1145790a8694403d4063f323d499e655c83426834d4ce2f8dd4a2ee',\n",
       " 'confirmations': 684705,\n",
       " 'size': 490,\n",
       " 'height': 170,\n",
       " 'version': 1,\n",
       " 'versionHex': '00000001',\n",
       " 'merkleroot': '7dac2c5666815c17a3b36427de37bb9d2e2c5ccec3f8633eb91a4205cb4c10ff',\n",
       " 'txcount': 2,\n",
       " 'tx': ['b1fea52486ce0c62bb442b530a3f0132b826c74e473d1f2c220bfa78111c5082',\n",
       "  'f4184fc596403b9d638783cf57adfe4c75c605f6356fbc91338530e9831e9e16'],\n",
       " 'time': 1231731025,\n",
       " 'mediantime': 1231716245,\n",
       " 'nonce': 1889418792,\n",
       " 'bits': '1d00ffff',\n",
       " 'difficulty': 1,\n",
       " 'chainwork': '000000000000000000000000000000000000000000000000000000ab00ab00ab',\n",
       " 'previousblockhash': '000000002a22cfee1f2c846adbd12b3e183d4f97683f85dad08a79780a84bd55',\n",
       " 'nextblockhash': '00000000c9ec538cab7f38ef9c67a95742f56ab07b0a37c5be6b02808dbfb4e0',\n",
       " 'coinbaseTx': {'hex': '',\n",
       "  'txid': 'b1fea52486ce0c62bb442b530a3f0132b826c74e473d1f2c220bfa78111c5082',\n",
       "  'hash': 'b1fea52486ce0c62bb442b530a3f0132b826c74e473d1f2c220bfa78111c5082',\n",
       "  'version': 1,\n",
       "  'size': 134,\n",
       "  'locktime': 0,\n",
       "  'vin': [{'coinbase': '04ffff001d0102',\n",
       "    'txid': '',\n",
       "    'vout': 0,\n",
       "    'scriptSig': {'asm': '', 'hex': ''},\n",
       "    'sequence': 4294967295}],\n",
       "  'vout': [{'value': 50,\n",
       "    'n': 0,\n",
       "    'scriptPubKey': {'asm': '04d46c4968bde02899d2aa0963367c7a6ce34eec332b32e42e5f3407e052d64ac625da6f0718e7b302140434bd725706957c092db53805b821a85b23a7ac61725b OP_CHECKSIG',\n",
       "     'hex': '4104d46c4968bde02899d2aa0963367c7a6ce34eec332b32e42e5f3407e052d64ac625da6f0718e7b302140434bd725706957c092db53805b821a85b23a7ac61725bac',\n",
       "     'reqSigs': 1,\n",
       "     'type': 'pubkey',\n",
       "     'addresses': ['1PSSGeFHDnKNxiEyFrD1wcEaHr9hrQDDWc'],\n",
       "     'opReturn': None,\n",
       "     'isTruncated': False}}],\n",
       "  'blockhash': '00000000d1145790a8694403d4063f323d499e655c83426834d4ce2f8dd4a2ee',\n",
       "  'confirmations': 684705,\n",
       "  'time': 1231731025,\n",
       "  'blocktime': 1231731025,\n",
       "  'blockheight': 170},\n",
       " 'totalFees': 0,\n",
       " 'miner': '\\x04��\\x00\\x1d\\x01\\x02',\n",
       " 'pages': None}"
      ]
     },
     "execution_count": 20,
     "metadata": {},
     "output_type": "execute_result"
    }
   ],
   "source": [
    "transaction_block2 = json.loads(answer2.text)\n",
    "transaction_block2"
   ]
  },
  {
   "cell_type": "code",
   "execution_count": 21,
   "metadata": {},
   "outputs": [
    {
     "name": "stdout",
     "output_type": "stream",
     "text": [
      "2009-01-12 03:30:25\n"
     ]
    }
   ],
   "source": [
    "import datetime\n",
    "timestamp = datetime.datetime.fromtimestamp(transaction_block2['time'])\n",
    "print(timestamp.strftime('%Y-%m-%d %H:%M:%S'))"
   ]
  },
  {
   "cell_type": "markdown",
   "metadata": {},
   "source": [
    "### Pizza Transaction"
   ]
  },
  {
   "cell_type": "code",
   "execution_count": 22,
   "metadata": {},
   "outputs": [],
   "source": [
    "answer3 = requests.get(\"https://api.whatsonchain.com/v1/bsv/main/block/height/57043\")"
   ]
  },
  {
   "cell_type": "code",
   "execution_count": 23,
   "metadata": {},
   "outputs": [
    {
     "data": {
      "text/plain": [
       "{'hash': '00000000152340ca42227603908689183edc47355204e7aca59383b0aaac1fd8',\n",
       " 'confirmations': 627832,\n",
       " 'size': 23835,\n",
       " 'height': 57043,\n",
       " 'version': 1,\n",
       " 'versionHex': '00000001',\n",
       " 'merkleroot': '5c1d2211f598cd6498f42b269fe3ce4a6fdb40eaa638f86a0579c4e63a721b5a',\n",
       " 'txcount': 2,\n",
       " 'tx': ['bd9075d78e65a98fb054cb33cf0ecf14e3e7f8b3150231df8680919a79ac8fe5',\n",
       "  'a1075db55d416d3ca199f55b6084e2115b9345e16c5cf302fc80e9d5fbf5d48d'],\n",
       " 'time': 1274552191,\n",
       " 'mediantime': 1274548928,\n",
       " 'nonce': 188133155,\n",
       " 'bits': '1c159c24',\n",
       " 'difficulty': 11.84622814970471,\n",
       " 'chainwork': '00000000000000000000000000000000000000000000000000026c60b6429108',\n",
       " 'previousblockhash': '0000000013e7e85518dac94d012d73253d3fdac5c30c4143b177f3086f129580',\n",
       " 'nextblockhash': '0000000013ab9f8ed78b254a429d3d5ad52905362e01bf6c682940337721eb51',\n",
       " 'coinbaseTx': {'hex': '',\n",
       "  'txid': 'bd9075d78e65a98fb054cb33cf0ecf14e3e7f8b3150231df8680919a79ac8fe5',\n",
       "  'hash': 'bd9075d78e65a98fb054cb33cf0ecf14e3e7f8b3150231df8680919a79ac8fe5',\n",
       "  'version': 1,\n",
       "  'size': 134,\n",
       "  'locktime': 0,\n",
       "  'vin': [{'coinbase': '04249c151c0176',\n",
       "    'txid': '',\n",
       "    'vout': 0,\n",
       "    'scriptSig': {'asm': '', 'hex': ''},\n",
       "    'sequence': 4294967295}],\n",
       "  'vout': [{'value': 50.99,\n",
       "    'n': 0,\n",
       "    'scriptPubKey': {'asm': '04e1ab3a971f202c86fdd25d8d9f3b486b80bb30ad36d93c030f409918df7f670f6b148400fff9676c70810391b38875ef613987234252cba32d36eae99e05e5a5 OP_CHECKSIG',\n",
       "     'hex': '4104e1ab3a971f202c86fdd25d8d9f3b486b80bb30ad36d93c030f409918df7f670f6b148400fff9676c70810391b38875ef613987234252cba32d36eae99e05e5a5ac',\n",
       "     'reqSigs': 1,\n",
       "     'type': 'pubkey',\n",
       "     'addresses': ['1yXfRNBg9E2URDEcrdZx5R1ZPxTcUJGTH'],\n",
       "     'opReturn': None,\n",
       "     'isTruncated': False}}],\n",
       "  'blockhash': '00000000152340ca42227603908689183edc47355204e7aca59383b0aaac1fd8',\n",
       "  'confirmations': 627832,\n",
       "  'time': 1274552191,\n",
       "  'blocktime': 1274552191,\n",
       "  'blockheight': 57043},\n",
       " 'totalFees': 0.990000000000002,\n",
       " 'miner': '\\x04$�\\x15\\x1c\\x01v',\n",
       " 'pages': None}"
      ]
     },
     "execution_count": 23,
     "metadata": {},
     "output_type": "execute_result"
    }
   ],
   "source": [
    "transaction_block3 = json.loads(answer3.text)\n",
    "transaction_block3"
   ]
  },
  {
   "cell_type": "code",
   "execution_count": 24,
   "metadata": {},
   "outputs": [
    {
     "name": "stdout",
     "output_type": "stream",
     "text": [
      "2010-05-22 19:16:31\n"
     ]
    }
   ],
   "source": [
    "import datetime\n",
    "timestamp = datetime.datetime.fromtimestamp(transaction_block3['time'])\n",
    "print(timestamp.strftime('%Y-%m-%d %H:%M:%S'))"
   ]
  },
  {
   "cell_type": "code",
   "execution_count": null,
   "metadata": {},
   "outputs": [],
   "source": []
  },
  {
   "cell_type": "markdown",
   "metadata": {},
   "source": [
    "### 1.3 My First Website"
   ]
  },
  {
   "cell_type": "markdown",
   "metadata": {},
   "source": [
    "** need to link HTML file to this"
   ]
  },
  {
   "cell_type": "code",
   "execution_count": null,
   "metadata": {},
   "outputs": [],
   "source": []
  },
  {
   "cell_type": "code",
   "execution_count": null,
   "metadata": {},
   "outputs": [],
   "source": []
  },
  {
   "cell_type": "markdown",
   "metadata": {},
   "source": [
    "## Part 2 - Time Series Investigation of Bitcoin Price"
   ]
  },
  {
   "cell_type": "markdown",
   "metadata": {},
   "source": [
    "### 2.1 Obtain Time Series Data "
   ]
  },
  {
   "cell_type": "markdown",
   "metadata": {},
   "source": [
    "#### Bitcoin price:"
   ]
  },
  {
   "cell_type": "code",
   "execution_count": 25,
   "metadata": {},
   "outputs": [],
   "source": [
    "import pandas as pd"
   ]
  },
  {
   "cell_type": "code",
   "execution_count": 26,
   "metadata": {},
   "outputs": [
    {
     "name": "stdout",
     "output_type": "stream",
     "text": [
      "Requirement already satisfied: fredapi in /Users/jackdulieu/opt/anaconda3/lib/python3.8/site-packages (0.4.3)\n",
      "Requirement already satisfied: pandas in /Users/jackdulieu/opt/anaconda3/lib/python3.8/site-packages (from fredapi) (1.1.3)\n",
      "Requirement already satisfied: numpy>=1.15.4 in /Users/jackdulieu/opt/anaconda3/lib/python3.8/site-packages (from pandas->fredapi) (1.19.2)\n",
      "Requirement already satisfied: pytz>=2017.2 in /Users/jackdulieu/opt/anaconda3/lib/python3.8/site-packages (from pandas->fredapi) (2020.1)\n",
      "Requirement already satisfied: python-dateutil>=2.7.3 in /Users/jackdulieu/opt/anaconda3/lib/python3.8/site-packages (from pandas->fredapi) (2.8.1)\n",
      "Requirement already satisfied: six>=1.5 in /Users/jackdulieu/opt/anaconda3/lib/python3.8/site-packages (from python-dateutil>=2.7.3->pandas->fredapi) (1.15.0)\n",
      "Note: you may need to restart the kernel to use updated packages.\n"
     ]
    }
   ],
   "source": [
    "pip install fredapi"
   ]
  },
  {
   "cell_type": "code",
   "execution_count": 30,
   "metadata": {},
   "outputs": [],
   "source": [
    "from fredapi import Fred"
   ]
  },
  {
   "cell_type": "code",
   "execution_count": 31,
   "metadata": {},
   "outputs": [],
   "source": [
    "fred = Fred(api_key='ba9c407715d1a161497e1f8ce49d3219')"
   ]
  },
  {
   "cell_type": "code",
   "execution_count": 32,
   "metadata": {},
   "outputs": [
    {
     "data": {
      "text/plain": [
       "<AxesSubplot:title={'center':'BTC price over time in USD'}, xlabel='Time', ylabel='BTC price in US Dollars'>"
      ]
     },
     "execution_count": 32,
     "metadata": {},
     "output_type": "execute_result"
    },
    {
     "data": {
      "image/png": "[encoded data removed]",
      "text/plain": [
       "<Figure size 432x288 with 1 Axes>"
      ]
     },
     "metadata": {
      "needs_background": "light"
     },
     "output_type": "display_data"
    }
   ],
   "source": [
    "CBBTCUSD = fred.get_series('CBBTCUSD')\n",
    "BTC= CBBTCUSD.plot()\n",
    "BTC.set_title('BTC price over time in USD')\n",
    "BTC.set(ylabel=\"BTC price in US Dollars\")\n",
    "BTC.set(xlabel=\"Time\")\n",
    "BTC"
   ]
  },
  {
   "cell_type": "markdown",
   "metadata": {},
   "source": [
    "#### Gold Price:"
   ]
  },
  {
   "cell_type": "code",
   "execution_count": 33,
   "metadata": {},
   "outputs": [
    {
     "data": {
      "text/plain": [
       "<AxesSubplot:title={'center':'Gold export price index over time in USD'}, xlabel='Time', ylabel='Gold price in US Dollars - Index Dec 2001 = 100'>"
      ]
     },
     "execution_count": 33,
     "metadata": {},
     "output_type": "execute_result"
    },
    {
     "data": {
      "image/png": "[encoded data removed]",
      "text/plain": [
       "<Figure size 432x288 with 1 Axes>"
      ]
     },
     "metadata": {
      "needs_background": "light"
     },
     "output_type": "display_data"
    }
   ],
   "source": [
    "goldprice = fred.get_series('ID7108')\n",
    "gold= goldprice.plot()\n",
    "gold.set_title('Gold export price index over time in USD')\n",
    "gold.set(ylabel=\"Gold price in US Dollars - Index Dec 2001 = 100\")\n",
    "gold.set(xlabel=\"Time\")\n",
    "gold"
   ]
  },
  {
   "cell_type": "markdown",
   "metadata": {},
   "source": [
    "#### S&P 500 Index price:"
   ]
  },
  {
   "cell_type": "code",
   "execution_count": 34,
   "metadata": {},
   "outputs": [
    {
     "data": {
      "text/plain": [
       "<AxesSubplot:title={'center':'S&P 500 price index over time in USD'}, xlabel='Time', ylabel='S&P 500 price in USD'>"
      ]
     },
     "execution_count": 34,
     "metadata": {},
     "output_type": "execute_result"
    },
    {
     "data": {
      "image/png": "[encoded data removed]",
      "text/plain": [
       "<Figure size 432x288 with 1 Axes>"
      ]
     },
     "metadata": {
      "needs_background": "light"
     },
     "output_type": "display_data"
    }
   ],
   "source": [
    "SP500price = fred.get_series('SP500')\n",
    "market = SP500price.plot()\n",
    "market.set_title('S&P 500 price index over time in USD')\n",
    "market.set(ylabel=\"S&P 500 price in USD\")\n",
    "market.set(xlabel=\"Time\")\n",
    "market"
   ]
  },
  {
   "cell_type": "markdown",
   "metadata": {},
   "source": [
    "#### Risk free rate:"
   ]
  },
  {
   "cell_type": "code",
   "execution_count": 35,
   "metadata": {},
   "outputs": [
    {
     "data": {
      "text/plain": [
       "<AxesSubplot:title={'center':'3-Month Treasure Bill Secondary Market rate'}, xlabel='Time', ylabel='Rate / %'>"
      ]
     },
     "execution_count": 35,
     "metadata": {},
     "output_type": "execute_result"
    },
    {
     "data": {
      "image/png": "[encoded data removed]",
      "text/plain": [
       "<Figure size 432x288 with 1 Axes>"
      ]
     },
     "metadata": {
      "needs_background": "light"
     },
     "output_type": "display_data"
    }
   ],
   "source": [
    "riskfreerate = fred.get_series('TB3MS')\n",
    "riskfree = riskfreerate.plot()\n",
    "riskfree.set_title('3-Month Treasure Bill Secondary Market rate')\n",
    "riskfree.set(ylabel=\"Rate / %\")\n",
    "riskfree.set(xlabel=\"Time\")\n",
    "riskfree"
   ]
  },
  {
   "cell_type": "markdown",
   "metadata": {},
   "source": [
    "### 2.2 Data Transformations"
   ]
  },
  {
   "cell_type": "code",
   "execution_count": 71,
   "metadata": {},
   "outputs": [],
   "source": [
    "df = pd.concat([CBBTCUSD,goldprice,SP500price,riskfreerate],axis=1)\n",
    "df.columns = ('BTC','Gold','Market', 'Rf')\n",
    "\n"
   ]
  },
  {
   "cell_type": "code",
   "execution_count": 72,
   "metadata": {},
   "outputs": [],
   "source": [
    "df = df.loc['2015-12-29':'2021-05-28']\n",
    "df = df.fillna(method='ffill')\n",
    "df = df[df.index.day==1]\n"
   ]
  },
  {
   "cell_type": "markdown",
   "metadata": {},
   "source": [
    "#### BTC price plot with monthly observations:"
   ]
  },
  {
   "cell_type": "code",
   "execution_count": 65,
   "metadata": {},
   "outputs": [
    {
     "data": {
      "text/plain": [
       "<AxesSubplot:title={'center':'BTC price over time in USD'}, xlabel='Time', ylabel='BTC price in USD'>"
      ]
     },
     "execution_count": 65,
     "metadata": {},
     "output_type": "execute_result"
    },
    {
     "data": {
      "image/png": "[encoded data removed]",
      "text/plain": [
       "<Figure size 432x288 with 1 Axes>"
      ]
     },
     "metadata": {
      "needs_background": "light"
     },
     "output_type": "display_data"
    }
   ],
   "source": [
    "BTC1 = df['BTC']\n",
    "btcMonthly = BTC1.plot()\n",
    "btcMonthly.set_title('BTC price over time in USD')\n",
    "btcMonthly.set(ylabel=\"BTC price in USD\")\n",
    "btcMonthly.set(xlabel=\"Time\")\n",
    "btcMonthly"
   ]
  },
  {
   "cell_type": "markdown",
   "metadata": {},
   "source": [
    "#### S&P 500 price index, monthly data, starting January 2016"
   ]
  },
  {
   "cell_type": "code",
   "execution_count": 89,
   "metadata": {
    "scrolled": true
   },
   "outputs": [
    {
     "data": {
      "text/plain": [
       "<AxesSubplot:title={'center':'SP500 price index over time in USD'}, xlabel='Time', ylabel='SP500 price in USD'>"
      ]
     },
     "execution_count": 89,
     "metadata": {},
     "output_type": "execute_result"
    },
    {
     "data": {
      "image/png": "[encoded data removed]",
      "text/plain": [
       "<Figure size 432x288 with 1 Axes>"
      ]
     },
     "metadata": {
      "needs_background": "light"
     },
     "output_type": "display_data"
    }
   ],
   "source": [
    "sp1 = df['Market']\n",
    "marketMonthly = sp1.plot()\n",
    "marketMonthly.set_title('SP500 price index over time in USD')\n",
    "marketMonthly.set(ylabel=\"SP500 price in USD\")\n",
    "marketMonthly.set(xlabel=\"Time\")\n",
    "marketMonthly"
   ]
  },
  {
   "cell_type": "markdown",
   "metadata": {},
   "source": [
    "### Transforming monthly price observations into monthly returns"
   ]
  },
  {
   "cell_type": "code",
   "execution_count": 68,
   "metadata": {},
   "outputs": [],
   "source": [
    "import numpy as np"
   ]
  },
  {
   "cell_type": "code",
   "execution_count": 111,
   "metadata": {},
   "outputs": [
    {
     "data": {
      "text/html": [
       "<div>\n",
       "<style scoped>\n",
       "    .dataframe tbody tr th:only-of-type {\n",
       "        vertical-align: middle;\n",
       "    }\n",
       "\n",
       "    .dataframe tbody tr th {\n",
       "        vertical-align: top;\n",
       "    }\n",
       "\n",
       "    .dataframe thead th {\n",
       "        text-align: right;\n",
       "    }\n",
       "</style>\n",
       "<table border=\"1\" class=\"dataframe\">\n",
       "  <thead>\n",
       "    <tr style=\"text-align: right;\">\n",
       "      <th></th>\n",
       "      <th>BTC</th>\n",
       "      <th>Gold</th>\n",
       "      <th>Market</th>\n",
       "      <th>Rf</th>\n",
       "      <th>btcMonthlyReturns</th>\n",
       "      <th>goldMonthlyReturns</th>\n",
       "      <th>marketMonthlyReturns</th>\n",
       "      <th>rfMonthlyReturns</th>\n",
       "    </tr>\n",
       "  </thead>\n",
       "  <tbody>\n",
       "    <tr>\n",
       "      <th>2016-01-01</th>\n",
       "      <td>435.66</td>\n",
       "      <td>395.0</td>\n",
       "      <td>2043.94</td>\n",
       "      <td>0.26</td>\n",
       "      <td>NaN</td>\n",
       "      <td>NaN</td>\n",
       "      <td>NaN</td>\n",
       "      <td>0.000217</td>\n",
       "    </tr>\n",
       "    <tr>\n",
       "      <th>2016-02-01</th>\n",
       "      <td>371.33</td>\n",
       "      <td>412.4</td>\n",
       "      <td>1939.38</td>\n",
       "      <td>0.31</td>\n",
       "      <td>-0.159771</td>\n",
       "      <td>0.043108</td>\n",
       "      <td>-0.052511</td>\n",
       "      <td>0.000258</td>\n",
       "    </tr>\n",
       "    <tr>\n",
       "      <th>2016-03-01</th>\n",
       "      <td>433.08</td>\n",
       "      <td>451.2</td>\n",
       "      <td>1978.35</td>\n",
       "      <td>0.29</td>\n",
       "      <td>0.153831</td>\n",
       "      <td>0.089917</td>\n",
       "      <td>0.019895</td>\n",
       "      <td>0.000242</td>\n",
       "    </tr>\n",
       "    <tr>\n",
       "      <th>2016-04-01</th>\n",
       "      <td>417.68</td>\n",
       "      <td>445.4</td>\n",
       "      <td>2072.78</td>\n",
       "      <td>0.23</td>\n",
       "      <td>-0.036207</td>\n",
       "      <td>-0.012938</td>\n",
       "      <td>0.046628</td>\n",
       "      <td>0.000192</td>\n",
       "    </tr>\n",
       "    <tr>\n",
       "      <th>2016-05-01</th>\n",
       "      <td>456.98</td>\n",
       "      <td>465.7</td>\n",
       "      <td>2065.30</td>\n",
       "      <td>0.27</td>\n",
       "      <td>0.089924</td>\n",
       "      <td>0.044569</td>\n",
       "      <td>-0.003615</td>\n",
       "      <td>0.000225</td>\n",
       "    </tr>\n",
       "    <tr>\n",
       "      <th>...</th>\n",
       "      <td>...</td>\n",
       "      <td>...</td>\n",
       "      <td>...</td>\n",
       "      <td>...</td>\n",
       "      <td>...</td>\n",
       "      <td>...</td>\n",
       "      <td>...</td>\n",
       "      <td>...</td>\n",
       "    </tr>\n",
       "    <tr>\n",
       "      <th>2020-12-01</th>\n",
       "      <td>18763.35</td>\n",
       "      <td>658.5</td>\n",
       "      <td>3662.45</td>\n",
       "      <td>0.09</td>\n",
       "      <td>0.308359</td>\n",
       "      <td>-0.053372</td>\n",
       "      <td>0.113355</td>\n",
       "      <td>0.000075</td>\n",
       "    </tr>\n",
       "    <tr>\n",
       "      <th>2021-01-01</th>\n",
       "      <td>29391.09</td>\n",
       "      <td>696.6</td>\n",
       "      <td>3756.07</td>\n",
       "      <td>0.08</td>\n",
       "      <td>0.448786</td>\n",
       "      <td>0.056247</td>\n",
       "      <td>0.025241</td>\n",
       "      <td>0.000067</td>\n",
       "    </tr>\n",
       "    <tr>\n",
       "      <th>2021-02-01</th>\n",
       "      <td>33457.60</td>\n",
       "      <td>661.7</td>\n",
       "      <td>3773.86</td>\n",
       "      <td>0.04</td>\n",
       "      <td>0.129587</td>\n",
       "      <td>-0.051399</td>\n",
       "      <td>0.004725</td>\n",
       "      <td>0.000033</td>\n",
       "    </tr>\n",
       "    <tr>\n",
       "      <th>2021-03-01</th>\n",
       "      <td>49652.19</td>\n",
       "      <td>622.7</td>\n",
       "      <td>3901.82</td>\n",
       "      <td>0.03</td>\n",
       "      <td>0.394764</td>\n",
       "      <td>-0.060747</td>\n",
       "      <td>0.033345</td>\n",
       "      <td>0.000025</td>\n",
       "    </tr>\n",
       "    <tr>\n",
       "      <th>2021-04-01</th>\n",
       "      <td>58768.84</td>\n",
       "      <td>622.7</td>\n",
       "      <td>4019.87</td>\n",
       "      <td>0.03</td>\n",
       "      <td>0.168569</td>\n",
       "      <td>0.000000</td>\n",
       "      <td>0.029806</td>\n",
       "      <td>0.000025</td>\n",
       "    </tr>\n",
       "  </tbody>\n",
       "</table>\n",
       "<p>64 rows × 8 columns</p>\n",
       "</div>"
      ],
      "text/plain": [
       "                 BTC   Gold   Market    Rf  btcMonthlyReturns  \\\n",
       "2016-01-01    435.66  395.0  2043.94  0.26                NaN   \n",
       "2016-02-01    371.33  412.4  1939.38  0.31          -0.159771   \n",
       "2016-03-01    433.08  451.2  1978.35  0.29           0.153831   \n",
       "2016-04-01    417.68  445.4  2072.78  0.23          -0.036207   \n",
       "2016-05-01    456.98  465.7  2065.30  0.27           0.089924   \n",
       "...              ...    ...      ...   ...                ...   \n",
       "2020-12-01  18763.35  658.5  3662.45  0.09           0.308359   \n",
       "2021-01-01  29391.09  696.6  3756.07  0.08           0.448786   \n",
       "2021-02-01  33457.60  661.7  3773.86  0.04           0.129587   \n",
       "2021-03-01  49652.19  622.7  3901.82  0.03           0.394764   \n",
       "2021-04-01  58768.84  622.7  4019.87  0.03           0.168569   \n",
       "\n",
       "            goldMonthlyReturns  marketMonthlyReturns  rfMonthlyReturns  \n",
       "2016-01-01                 NaN                   NaN          0.000217  \n",
       "2016-02-01            0.043108             -0.052511          0.000258  \n",
       "2016-03-01            0.089917              0.019895          0.000242  \n",
       "2016-04-01           -0.012938              0.046628          0.000192  \n",
       "2016-05-01            0.044569             -0.003615          0.000225  \n",
       "...                        ...                   ...               ...  \n",
       "2020-12-01           -0.053372              0.113355          0.000075  \n",
       "2021-01-01            0.056247              0.025241          0.000067  \n",
       "2021-02-01           -0.051399              0.004725          0.000033  \n",
       "2021-03-01           -0.060747              0.033345          0.000025  \n",
       "2021-04-01            0.000000              0.029806          0.000025  \n",
       "\n",
       "[64 rows x 8 columns]"
      ]
     },
     "execution_count": 111,
     "metadata": {},
     "output_type": "execute_result"
    }
   ],
   "source": [
    "df['btcMonthlyReturns'] = np.log(df['BTC']/df['BTC'].shift(1))\n",
    "df['goldMonthlyReturns'] = np.log(df['Gold']/df['Gold'].shift(1))\n",
    "df['marketMonthlyReturns'] = np.log(df['Market']/df['Market'].shift(1))\n",
    "df['rfMonthlyReturns']= df['Rf']/1200\n",
    "df"
   ]
  },
  {
   "cell_type": "code",
   "execution_count": 112,
   "metadata": {},
   "outputs": [],
   "source": [
    "rbt= df['btcMonthlyReturns'] \n",
    "rgt = df['goldMonthlyReturns']\n",
    "rmt = df['marketMonthlyReturns']\n",
    "rft = df['rfMonthlyReturns']"
   ]
  },
  {
   "cell_type": "markdown",
   "metadata": {},
   "source": [
    "#### BTC monthly returns"
   ]
  },
  {
   "cell_type": "code",
   "execution_count": 113,
   "metadata": {},
   "outputs": [
    {
     "data": {
      "text/plain": [
       "<AxesSubplot:title={'center':'BTC monthly returns'}, xlabel='Time', ylabel='BTC monthly return'>"
      ]
     },
     "execution_count": 113,
     "metadata": {},
     "output_type": "execute_result"
    },
    {
     "data": {
      "image/png": "[encoded data removed]",
      "text/plain": [
       "<Figure size 432x288 with 1 Axes>"
      ]
     },
     "metadata": {
      "needs_background": "light"
     },
     "output_type": "display_data"
    }
   ],
   "source": [
    "btcReturns = rbt.plot()\n",
    "btcReturns.set_title('BTC monthly returns')\n",
    "btcReturns.set(ylabel=\"BTC monthly return\")\n",
    "btcReturns.set(xlabel=\"Time\")\n",
    "btcReturns"
   ]
  },
  {
   "cell_type": "markdown",
   "metadata": {},
   "source": [
    "#### Gold monthly returns"
   ]
  },
  {
   "cell_type": "code",
   "execution_count": 114,
   "metadata": {},
   "outputs": [
    {
     "data": {
      "text/plain": [
       "<AxesSubplot:title={'center':'Gold monthly returns'}, xlabel='Time', ylabel='Gold monthly return'>"
      ]
     },
     "execution_count": 114,
     "metadata": {},
     "output_type": "execute_result"
    },
    {
     "data": {
      "image/png": "[encoded data removed]",
      "text/plain": [
       "<Figure size 432x288 with 1 Axes>"
      ]
     },
     "metadata": {
      "needs_background": "light"
     },
     "output_type": "display_data"
    }
   ],
   "source": [
    "goldReturns = rgt.plot()\n",
    "goldReturns.set_title('Gold monthly returns')\n",
    "goldReturns.set(ylabel=\"Gold monthly return\")\n",
    "goldReturns.set(xlabel=\"Time\")\n",
    "goldReturns"
   ]
  },
  {
   "cell_type": "markdown",
   "metadata": {},
   "source": [
    "#### S & P 500 monthly returns"
   ]
  },
  {
   "cell_type": "code",
   "execution_count": 115,
   "metadata": {},
   "outputs": [
    {
     "data": {
      "text/plain": [
       "<AxesSubplot:title={'center':'Market monthly returns'}, xlabel='Time', ylabel='Market monthly return'>"
      ]
     },
     "execution_count": 115,
     "metadata": {},
     "output_type": "execute_result"
    },
    {
     "data": {
      "image/png": "[encoded data removed]",
      "text/plain": [
       "<Figure size 432x288 with 1 Axes>"
      ]
     },
     "metadata": {
      "needs_background": "light"
     },
     "output_type": "display_data"
    }
   ],
   "source": [
    "marketReturns = rmt.plot()\n",
    "marketReturns.set_title('Market monthly returns')\n",
    "marketReturns.set(ylabel=\"Market monthly return\")\n",
    "marketReturns.set(xlabel=\"Time\")\n",
    "marketReturns"
   ]
  },
  {
   "cell_type": "markdown",
   "metadata": {},
   "source": [
    "#### Risk free rate monthly returns"
   ]
  },
  {
   "cell_type": "code",
   "execution_count": 116,
   "metadata": {},
   "outputs": [
    {
     "data": {
      "text/plain": [
       "<AxesSubplot:title={'center':'Risk free monthly returns'}, xlabel='Time', ylabel='Risk free monthly return'>"
      ]
     },
     "execution_count": 116,
     "metadata": {},
     "output_type": "execute_result"
    },
    {
     "data": {
      "image/png": "[encoded data removed]",
      "text/plain": [
       "<Figure size 432x288 with 1 Axes>"
      ]
     },
     "metadata": {
      "needs_background": "light"
     },
     "output_type": "display_data"
    }
   ],
   "source": [
    "riskfreeReturns = rft.plot()\n",
    "riskfreeReturns.set_title('Risk free monthly returns')\n",
    "riskfreeReturns.set(ylabel=\"Risk free monthly return\")\n",
    "riskfreeReturns.set(xlabel=\"Time\")\n",
    "riskfreeReturns"
   ]
  },
  {
   "cell_type": "markdown",
   "metadata": {},
   "source": [
    "## 2.3 Data Analysis "
   ]
  },
  {
   "cell_type": "code",
   "execution_count": 120,
   "metadata": {},
   "outputs": [
    {
     "data": {
      "text/plain": [
       "0.1681736232527188"
      ]
     },
     "execution_count": 120,
     "metadata": {},
     "output_type": "execute_result"
    }
   ],
   "source": [
    "BTC_gold_corr = rbt.corr(rgt)\n",
    "BTC_gold_corr"
   ]
  },
  {
   "cell_type": "code",
   "execution_count": 119,
   "metadata": {},
   "outputs": [
    {
     "data": {
      "text/plain": [
       "0.21725621975846082"
      ]
     },
     "execution_count": 119,
     "metadata": {},
     "output_type": "execute_result"
    }
   ],
   "source": [
    "BTC_market_corr = rbt.corr(rmt)\n",
    "BTC_market_corr"
   ]
  },
  {
   "cell_type": "code",
   "execution_count": 125,
   "metadata": {},
   "outputs": [
    {
     "data": {
      "text/plain": [
       "-0.047988046256141725"
      ]
     },
     "execution_count": 125,
     "metadata": {},
     "output_type": "execute_result"
    }
   ],
   "source": [
    "Gold_market_corr = rgt.corr(rmt)\n",
    "Gold_market_corr"
   ]
  },
  {
   "cell_type": "markdown",
   "metadata": {},
   "source": [
    "##### Interpret these results by comparing the view that Bitcoin is an alternative to gold to the view that Bitcoin is a new form of high-risk high-return asset:"
   ]
  },
  {
   "cell_type": "markdown",
   "metadata": {},
   "source": [
    "We see that BTC has a correlation coefficient with Gold of 0.17. This means that there is a mild positive correlation between the returns of the two assets. I.e. If the returns of one asset is positve then the expected return of the other asset is also positive."
   ]
  },
  {
   "cell_type": "markdown",
   "metadata": {},
   "source": [
    "BTC returns has a correlation coefficient with the SP500 returns of 0.21. This is also a positive relationship between the two variables. "
   ]
  },
  {
   "cell_type": "markdown",
   "metadata": {},
   "source": [
    "However, we can also see that gold has a very slight negative correlation with the market returns. As this return is close to 0, we know that these 2 assets / variables are not correlated and there is very little relationship between the returns of the market and returns of gold."
   ]
  },
  {
   "cell_type": "markdown",
   "metadata": {},
   "source": [
    "Traditional economic theory argues that gold is a hedge against the market due to its lack of correlation to the stock market / low beta. This is evidenced by the negative correlation of gold to S&P500 returns since 2016. Holding gold in a portfolio allows investors to hedge against market movements and protects reduces their portfolio, meaning they suffer less losses in during downward economic cycles. "
   ]
  },
  {
   "cell_type": "markdown",
   "metadata": {},
   "source": [
    "However, BTC, as shown by its positive correlation with the S&P500, is actually positively correlated with the market. This shows that BTC does not have the necessary price characterists to act as an alternative to gold, as it does not fulfill the requirement of being uncorrelated with the market."
   ]
  },
  {
   "cell_type": "markdown",
   "metadata": {},
   "source": [
    "Furthermore, for the view that Bitcoin is an alternative investment to gold to hold, we would expect to see a strong relatinship between BTC and gold, meaning that these assets are strongly correlated and will hold similar price action. In fact, BTC's correlation with gold is only 0.17, meaning that BTC returns do not correlated with gold returns and so BTC does not serve as an alternative to gold as they aren't in fact very correlated."
   ]
  },
  {
   "cell_type": "markdown",
   "metadata": {},
   "source": [
    "Due to BTC's lack of utility, I do believe that it currently only serves as a form of digital gold, but I also believe that it does this job poorly. BTC price is extremely volatile and 80% price retraces after a bull run is not uncommon. We do not see this type of extreme volatility in gold price - which historically has stayed at a relatively stable level to USD once we include inflation."
   ]
  },
  {
   "cell_type": "markdown",
   "metadata": {},
   "source": [
    "For these reasons, I adhere more to the view that BTC is a high-risk, high-return asset rather than the view that BTC serves as a viable alternative to gold."
   ]
  },
  {
   "cell_type": "markdown",
   "metadata": {},
   "source": [
    "### Regression Analysis"
   ]
  },
  {
   "cell_type": "code",
   "execution_count": 127,
   "metadata": {},
   "outputs": [],
   "source": [
    "df1 = df.drop(df.index[0])\n"
   ]
  },
  {
   "cell_type": "code",
   "execution_count": 154,
   "metadata": {},
   "outputs": [],
   "source": [
    "rbt= df1['btcMonthlyReturns'] \n",
    "rgt = df1['goldMonthlyReturns']\n",
    "rmt = df1['marketMonthlyReturns']\n",
    "rft = df1['rfMonthlyReturns']"
   ]
  },
  {
   "cell_type": "code",
   "execution_count": 176,
   "metadata": {},
   "outputs": [],
   "source": [
    "y = rbt - rft\n",
    "z = rgt - rft\n",
    "x = rmt - rft\n"
   ]
  },
  {
   "cell_type": "code",
   "execution_count": 177,
   "metadata": {},
   "outputs": [],
   "source": [
    "from sklearn.linear_model import LinearRegression"
   ]
  },
  {
   "cell_type": "code",
   "execution_count": 178,
   "metadata": {},
   "outputs": [],
   "source": [
    "y = y.values.reshape(-1,1)\n",
    "x = x.values.reshape(-1,1)\n",
    "z = z.values.reshape(-1,1)"
   ]
  },
  {
   "cell_type": "code",
   "execution_count": 179,
   "metadata": {},
   "outputs": [],
   "source": [
    "lr = LinearRegression()"
   ]
  },
  {
   "cell_type": "code",
   "execution_count": 180,
   "metadata": {
    "scrolled": false
   },
   "outputs": [
    {
     "name": "stdout",
     "output_type": "stream",
     "text": [
      "[0.06654629] [[1.05758217]]\n"
     ]
    }
   ],
   "source": [
    "lr.fit(x,y)\n",
    "print(lr.intercept_,lr.coef_)"
   ]
  },
  {
   "cell_type": "code",
   "execution_count": 184,
   "metadata": {
    "scrolled": true
   },
   "outputs": [
    {
     "name": "stdout",
     "output_type": "stream",
     "text": [
      "[0.00672876] [[-0.03997995]]\n"
     ]
    }
   ],
   "source": [
    "lr.fit(x,z)\n",
    "print(lr.intercept_,lr.coef_)"
   ]
  },
  {
   "cell_type": "markdown",
   "metadata": {},
   "source": [
    "#### BTC OLS regression coefficients interpreted:"
   ]
  },
  {
   "cell_type": "markdown",
   "metadata": {},
   "source": [
    "The OLS estimate for the alpha / intercept of BTC is 0.067 or 6.7%. This means that if the market has returns of 0%, then we would expect BTC to have a monthly return of 6%. I.e. this means that BTC averages a monthly excess return of 6% over the market. \n",
    "\n",
    "The beta for BTC is 1.06. This means that for a 1 unit increase in the market monhtly returns, we expect to see an increase in BTC momhtly returns of 1.06. It also means that a 1 unit decrease in the market monhtly returns would lead to an expected decrease in BTC price of 1.06.\n",
    "\n",
    "An assets beta provides a measure of volatility / the systematic risk of an individual stock or asset, compared to the entire market. As the beta for BTC is close to 1, this means that the returns for BTC closely follow the returns of the market and they have similar volaitility.\n",
    "\n",
    "However, as BTC has a beta > 1 , this means that BTC is more volatile than the stock market and we would expect to see more drastic return increases / decreases than the market returns themself, in response to the market movements. i.e. By holding BTC rather than eQuity, we are taking on more risk as it has more drastic price movements than the market."
   ]
  },
  {
   "cell_type": "markdown",
   "metadata": {},
   "source": [
    "#### Gold OLS regression coefficients interpreted:"
   ]
  },
  {
   "cell_type": "markdown",
   "metadata": {},
   "source": [
    "The OLS estimate for the alpha / intercept of Gold is 0.0067 or 0.67%. This means that if the S&P 500 has a monthly return of 0%, then we would expect the monthly return of gold to be -0.67%. I.e. Gold is expected to perform slighly worse than the market.\n",
    "\n",
    "The beta for gold is -0.040. This means that a 1 unit increase in the monthly returns of the market would lead to an expected increase in the returns of gold by 0.04 units. \n",
    "\n",
    "I.e. Gold is negatively correlated with the market. As the beta for gold is so close to 0, we can see that gold is fairly independent from stock market movements. This shows that gold is a low risk asset, as its returns are not too affected by stock price volatility."
   ]
  }
 ],
 "metadata": {
  "kernelspec": {
   "display_name": "Python 3",
   "language": "python",
   "name": "python3"
  },
  "language_info": {
   "codemirror_mode": {
    "name": "ipython",
    "version": 3
   },
   "file_extension": ".py",
   "mimetype": "text/x-python",
   "name": "python",
   "nbconvert_exporter": "python",
   "pygments_lexer": "ipython3",
   "version": "3.8.5"
  }
 },
 "nbformat": 4,
 "nbformat_minor": 4
}
